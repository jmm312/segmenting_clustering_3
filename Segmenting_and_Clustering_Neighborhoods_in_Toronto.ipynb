{
 "cells": [
  {
   "cell_type": "markdown",
   "metadata": {},
   "source": [
    "# Segmenting and Clustering Neighborhoods in Toronto"
   ]
  },
  {
   "cell_type": "markdown",
   "metadata": {},
   "source": [
    "## Table of Contents\n",
    "\n",
    "<div class=\"alert alert-block alert-info\" style=\"margin-top: 20px\">\n",
    "\n",
    "<font size = 3>\n",
    "\n",
    "1. <a href=\"#item1\">Download and Explore Dataset</a>\n",
    "\n",
    "2. <a href=\"#item2\">Explore & Visualize Neighborhoods in Toronto</a>\n",
    "\n",
    "3. <a href=\"#item3\">Analyze Each Neighborhood</a>\n",
    "\n",
    "4. <a href=\"#item4\">Cluster Neighborhoods</a>\n",
    "\n",
    "5. <a href=\"#item5\">Examine Clusters</a>    \n",
    "</font>\n",
    "</div>"
   ]
  },
  {
   "cell_type": "code",
   "execution_count": 440,
   "metadata": {},
   "outputs": [],
   "source": [
    "import pandas as pd\n",
    "import numpy as np\n",
    "import geocoder\n",
    "import requests\n",
    "from sklearn.cluster import KMeans\n",
    "from geopy.geocoders import Nominatim\n",
    "from pandas.io.json import json_normalize\n",
    "import matplotlib.cm as cm\n",
    "import matplotlib.colors as colors"
   ]
  },
  {
   "cell_type": "code",
   "execution_count": 441,
   "metadata": {},
   "outputs": [],
   "source": [
    "# set display options\n",
    "pd.options.display.max_rows = 25\n",
    "pd.options.display.max_columns  = 200\n",
    "pd.options.display.max_colwidth = 2000"
   ]
  },
  {
   "cell_type": "markdown",
   "metadata": {},
   "source": [
    "## 1. Download and Explore Dataset"
   ]
  },
  {
   "cell_type": "markdown",
   "metadata": {},
   "source": [
    "#### Read the html table from the Wikipedia page using pandas"
   ]
  },
  {
   "cell_type": "code",
   "execution_count": 442,
   "metadata": {},
   "outputs": [],
   "source": [
    "url = r'https://en.wikipedia.org/wiki/List_of_postal_codes_of_Canada:_M'\n",
    "results = pd.read_html(url, attrs={'class': 'wikitable'})"
   ]
  },
  {
   "cell_type": "markdown",
   "metadata": {},
   "source": [
    "#### Get the first dataframe from the resulting list and explore the first few rows"
   ]
  },
  {
   "cell_type": "code",
   "execution_count": 443,
   "metadata": {},
   "outputs": [
    {
     "name": "stdout",
     "output_type": "stream",
     "text": [
      "Shape all records (287, 3)\n"
     ]
    },
    {
     "data": {
      "text/html": [
       "<div>\n",
       "<style scoped>\n",
       "    .dataframe tbody tr th:only-of-type {\n",
       "        vertical-align: middle;\n",
       "    }\n",
       "\n",
       "    .dataframe tbody tr th {\n",
       "        vertical-align: top;\n",
       "    }\n",
       "\n",
       "    .dataframe thead th {\n",
       "        text-align: right;\n",
       "    }\n",
       "</style>\n",
       "<table border=\"1\" class=\"dataframe\">\n",
       "  <thead>\n",
       "    <tr style=\"text-align: right;\">\n",
       "      <th></th>\n",
       "      <th>Postcode</th>\n",
       "      <th>Borough</th>\n",
       "      <th>Neighborhood</th>\n",
       "    </tr>\n",
       "  </thead>\n",
       "  <tbody>\n",
       "    <tr>\n",
       "      <td>0</td>\n",
       "      <td>M1A</td>\n",
       "      <td>Not assigned</td>\n",
       "      <td>Not assigned</td>\n",
       "    </tr>\n",
       "    <tr>\n",
       "      <td>1</td>\n",
       "      <td>M2A</td>\n",
       "      <td>Not assigned</td>\n",
       "      <td>Not assigned</td>\n",
       "    </tr>\n",
       "    <tr>\n",
       "      <td>2</td>\n",
       "      <td>M3A</td>\n",
       "      <td>North York</td>\n",
       "      <td>Parkwoods</td>\n",
       "    </tr>\n",
       "    <tr>\n",
       "      <td>3</td>\n",
       "      <td>M4A</td>\n",
       "      <td>North York</td>\n",
       "      <td>Victoria Village</td>\n",
       "    </tr>\n",
       "    <tr>\n",
       "      <td>4</td>\n",
       "      <td>M5A</td>\n",
       "      <td>Downtown Toronto</td>\n",
       "      <td>Harbourfront</td>\n",
       "    </tr>\n",
       "  </tbody>\n",
       "</table>\n",
       "</div>"
      ],
      "text/plain": [
       "  Postcode           Borough      Neighborhood\n",
       "0      M1A      Not assigned      Not assigned\n",
       "1      M2A      Not assigned      Not assigned\n",
       "2      M3A        North York         Parkwoods\n",
       "3      M4A        North York  Victoria Village\n",
       "4      M5A  Downtown Toronto      Harbourfront"
      ]
     },
     "execution_count": 443,
     "metadata": {},
     "output_type": "execute_result"
    }
   ],
   "source": [
    "tor_boroughs = results[0]\n",
    "print('Shape all records',tor_boroughs.shape)\n",
    "tor_boroughs.head()"
   ]
  },
  {
   "cell_type": "markdown",
   "metadata": {},
   "source": [
    "#### Drop rows with Boroughs Not Assigned "
   ]
  },
  {
   "cell_type": "code",
   "execution_count": 444,
   "metadata": {},
   "outputs": [
    {
     "name": "stdout",
     "output_type": "stream",
     "text": [
      "Shape after dropping na (210, 3)\n"
     ]
    },
    {
     "data": {
      "text/html": [
       "<div>\n",
       "<style scoped>\n",
       "    .dataframe tbody tr th:only-of-type {\n",
       "        vertical-align: middle;\n",
       "    }\n",
       "\n",
       "    .dataframe tbody tr th {\n",
       "        vertical-align: top;\n",
       "    }\n",
       "\n",
       "    .dataframe thead th {\n",
       "        text-align: right;\n",
       "    }\n",
       "</style>\n",
       "<table border=\"1\" class=\"dataframe\">\n",
       "  <thead>\n",
       "    <tr style=\"text-align: right;\">\n",
       "      <th></th>\n",
       "      <th>Postcode</th>\n",
       "      <th>Borough</th>\n",
       "      <th>Neighborhood</th>\n",
       "    </tr>\n",
       "  </thead>\n",
       "  <tbody>\n",
       "    <tr>\n",
       "      <td>0</td>\n",
       "      <td>M3A</td>\n",
       "      <td>North York</td>\n",
       "      <td>Parkwoods</td>\n",
       "    </tr>\n",
       "    <tr>\n",
       "      <td>1</td>\n",
       "      <td>M4A</td>\n",
       "      <td>North York</td>\n",
       "      <td>Victoria Village</td>\n",
       "    </tr>\n",
       "    <tr>\n",
       "      <td>2</td>\n",
       "      <td>M5A</td>\n",
       "      <td>Downtown Toronto</td>\n",
       "      <td>Harbourfront</td>\n",
       "    </tr>\n",
       "    <tr>\n",
       "      <td>3</td>\n",
       "      <td>M6A</td>\n",
       "      <td>North York</td>\n",
       "      <td>Lawrence Heights</td>\n",
       "    </tr>\n",
       "    <tr>\n",
       "      <td>4</td>\n",
       "      <td>M6A</td>\n",
       "      <td>North York</td>\n",
       "      <td>Lawrence Manor</td>\n",
       "    </tr>\n",
       "    <tr>\n",
       "      <td>5</td>\n",
       "      <td>M7A</td>\n",
       "      <td>Downtown Toronto</td>\n",
       "      <td>Queen's Park</td>\n",
       "    </tr>\n",
       "    <tr>\n",
       "      <td>6</td>\n",
       "      <td>M9A</td>\n",
       "      <td>Queen's Park</td>\n",
       "      <td>Not assigned</td>\n",
       "    </tr>\n",
       "    <tr>\n",
       "      <td>7</td>\n",
       "      <td>M1B</td>\n",
       "      <td>Scarborough</td>\n",
       "      <td>Rouge</td>\n",
       "    </tr>\n",
       "    <tr>\n",
       "      <td>8</td>\n",
       "      <td>M1B</td>\n",
       "      <td>Scarborough</td>\n",
       "      <td>Malvern</td>\n",
       "    </tr>\n",
       "    <tr>\n",
       "      <td>9</td>\n",
       "      <td>M3B</td>\n",
       "      <td>North York</td>\n",
       "      <td>Don Mills North</td>\n",
       "    </tr>\n",
       "  </tbody>\n",
       "</table>\n",
       "</div>"
      ],
      "text/plain": [
       "  Postcode           Borough      Neighborhood\n",
       "0      M3A        North York         Parkwoods\n",
       "1      M4A        North York  Victoria Village\n",
       "2      M5A  Downtown Toronto      Harbourfront\n",
       "3      M6A        North York  Lawrence Heights\n",
       "4      M6A        North York    Lawrence Manor\n",
       "5      M7A  Downtown Toronto      Queen's Park\n",
       "6      M9A      Queen's Park      Not assigned\n",
       "7      M1B       Scarborough             Rouge\n",
       "8      M1B       Scarborough           Malvern\n",
       "9      M3B        North York   Don Mills North"
      ]
     },
     "execution_count": 444,
     "metadata": {},
     "output_type": "execute_result"
    }
   ],
   "source": [
    "tor_boroughs_drop_na = tor_boroughs.drop(\n",
    "    tor_boroughs[tor_boroughs.Borough == 'Not assigned'].index,\n",
    "    axis=0).reset_index(drop=True)\n",
    "print('Shape after dropping na',tor_boroughs_drop_na.shape)\n",
    "tor_boroughs_drop_na.head(10)"
   ]
  },
  {
   "cell_type": "markdown",
   "metadata": {},
   "source": [
    "#### Combine Neighborghoods where more than one neighborhood exists in one postal code area"
   ]
  },
  {
   "cell_type": "code",
   "execution_count": 445,
   "metadata": {},
   "outputs": [],
   "source": [
    "postcodes = tor_boroughs_drop_na['Postcode'].unique()"
   ]
  },
  {
   "cell_type": "code",
   "execution_count": 446,
   "metadata": {},
   "outputs": [],
   "source": [
    "boroughs = []\n",
    "neighborhoods = []\n",
    "\n",
    "for code in postcodes:\n",
    "    temp_postcode_df = tor_boroughs_drop_na[tor_boroughs_drop_na['Postcode'] == code]\n",
    "    boroughs.append(temp_postcode_df['Borough'].sort_values().unique()[0])\n",
    "    neighborhoods.append(', '.join(temp_postcode_df['Neighborhood'].sort_values().unique()))"
   ]
  },
  {
   "cell_type": "code",
   "execution_count": 447,
   "metadata": {},
   "outputs": [],
   "source": [
    "tor_boroughs_combined = pd.DataFrame({'Postcode': postcodes, 'Borough': boroughs,\n",
    "                                      'Neighborhood': neighborhoods}) "
   ]
  },
  {
   "cell_type": "code",
   "execution_count": 448,
   "metadata": {},
   "outputs": [
    {
     "name": "stdout",
     "output_type": "stream",
     "text": [
      "Shape after combining neighborhoods (103, 3)\n"
     ]
    },
    {
     "data": {
      "text/html": [
       "<div>\n",
       "<style scoped>\n",
       "    .dataframe tbody tr th:only-of-type {\n",
       "        vertical-align: middle;\n",
       "    }\n",
       "\n",
       "    .dataframe tbody tr th {\n",
       "        vertical-align: top;\n",
       "    }\n",
       "\n",
       "    .dataframe thead th {\n",
       "        text-align: right;\n",
       "    }\n",
       "</style>\n",
       "<table border=\"1\" class=\"dataframe\">\n",
       "  <thead>\n",
       "    <tr style=\"text-align: right;\">\n",
       "      <th></th>\n",
       "      <th>Postcode</th>\n",
       "      <th>Borough</th>\n",
       "      <th>Neighborhood</th>\n",
       "    </tr>\n",
       "  </thead>\n",
       "  <tbody>\n",
       "    <tr>\n",
       "      <td>0</td>\n",
       "      <td>M3A</td>\n",
       "      <td>North York</td>\n",
       "      <td>Parkwoods</td>\n",
       "    </tr>\n",
       "    <tr>\n",
       "      <td>1</td>\n",
       "      <td>M4A</td>\n",
       "      <td>North York</td>\n",
       "      <td>Victoria Village</td>\n",
       "    </tr>\n",
       "    <tr>\n",
       "      <td>2</td>\n",
       "      <td>M5A</td>\n",
       "      <td>Downtown Toronto</td>\n",
       "      <td>Harbourfront</td>\n",
       "    </tr>\n",
       "    <tr>\n",
       "      <td>3</td>\n",
       "      <td>M6A</td>\n",
       "      <td>North York</td>\n",
       "      <td>Lawrence Heights, Lawrence Manor</td>\n",
       "    </tr>\n",
       "    <tr>\n",
       "      <td>4</td>\n",
       "      <td>M7A</td>\n",
       "      <td>Downtown Toronto</td>\n",
       "      <td>Queen's Park</td>\n",
       "    </tr>\n",
       "    <tr>\n",
       "      <td>5</td>\n",
       "      <td>M9A</td>\n",
       "      <td>Queen's Park</td>\n",
       "      <td>Not assigned</td>\n",
       "    </tr>\n",
       "    <tr>\n",
       "      <td>6</td>\n",
       "      <td>M1B</td>\n",
       "      <td>Scarborough</td>\n",
       "      <td>Malvern, Rouge</td>\n",
       "    </tr>\n",
       "    <tr>\n",
       "      <td>7</td>\n",
       "      <td>M3B</td>\n",
       "      <td>North York</td>\n",
       "      <td>Don Mills North</td>\n",
       "    </tr>\n",
       "    <tr>\n",
       "      <td>8</td>\n",
       "      <td>M4B</td>\n",
       "      <td>East York</td>\n",
       "      <td>Parkview Hill, Woodbine Gardens</td>\n",
       "    </tr>\n",
       "    <tr>\n",
       "      <td>9</td>\n",
       "      <td>M5B</td>\n",
       "      <td>Downtown Toronto</td>\n",
       "      <td>Garden District, Ryerson</td>\n",
       "    </tr>\n",
       "  </tbody>\n",
       "</table>\n",
       "</div>"
      ],
      "text/plain": [
       "  Postcode           Borough                      Neighborhood\n",
       "0      M3A        North York                         Parkwoods\n",
       "1      M4A        North York                  Victoria Village\n",
       "2      M5A  Downtown Toronto                      Harbourfront\n",
       "3      M6A        North York  Lawrence Heights, Lawrence Manor\n",
       "4      M7A  Downtown Toronto                      Queen's Park\n",
       "5      M9A      Queen's Park                      Not assigned\n",
       "6      M1B       Scarborough                    Malvern, Rouge\n",
       "7      M3B        North York                   Don Mills North\n",
       "8      M4B         East York   Parkview Hill, Woodbine Gardens\n",
       "9      M5B  Downtown Toronto          Garden District, Ryerson"
      ]
     },
     "execution_count": 448,
     "metadata": {},
     "output_type": "execute_result"
    }
   ],
   "source": [
    "print('Shape after combining neighborhoods',tor_boroughs_combined.shape)\n",
    "tor_boroughs_combined.head(10)"
   ]
  },
  {
   "cell_type": "markdown",
   "metadata": {},
   "source": [
    "#### If a cell has a borough but a Not assigned neighborhood, then the neighborhood will be the same as the borough. "
   ]
  },
  {
   "cell_type": "code",
   "execution_count": 449,
   "metadata": {
    "scrolled": false
   },
   "outputs": [],
   "source": [
    "# select all neighborhoods with Not Assigned and replace with value of Borough\n",
    "tor_boroughs_combined.loc[\n",
    "    tor_boroughs_combined[tor_boroughs_combined['Neighborhood'] == 'Not assigned'].index,'Neighborhood']= \\\n",
    "    tor_boroughs_combined[tor_boroughs_combined['Neighborhood'] == 'Not assigned']['Borough']"
   ]
  },
  {
   "cell_type": "code",
   "execution_count": 450,
   "metadata": {},
   "outputs": [
    {
     "data": {
      "text/html": [
       "<div>\n",
       "<style scoped>\n",
       "    .dataframe tbody tr th:only-of-type {\n",
       "        vertical-align: middle;\n",
       "    }\n",
       "\n",
       "    .dataframe tbody tr th {\n",
       "        vertical-align: top;\n",
       "    }\n",
       "\n",
       "    .dataframe thead th {\n",
       "        text-align: right;\n",
       "    }\n",
       "</style>\n",
       "<table border=\"1\" class=\"dataframe\">\n",
       "  <thead>\n",
       "    <tr style=\"text-align: right;\">\n",
       "      <th></th>\n",
       "      <th>Postcode</th>\n",
       "      <th>Borough</th>\n",
       "      <th>Neighborhood</th>\n",
       "    </tr>\n",
       "  </thead>\n",
       "  <tbody>\n",
       "    <tr>\n",
       "      <td>5</td>\n",
       "      <td>M9A</td>\n",
       "      <td>Queen's Park</td>\n",
       "      <td>Queen's Park</td>\n",
       "    </tr>\n",
       "  </tbody>\n",
       "</table>\n",
       "</div>"
      ],
      "text/plain": [
       "  Postcode       Borough  Neighborhood\n",
       "5      M9A  Queen's Park  Queen's Park"
      ]
     },
     "execution_count": 450,
     "metadata": {},
     "output_type": "execute_result"
    }
   ],
   "source": [
    "# Check sample if replaced\n",
    "tor_boroughs_combined[tor_boroughs_combined['Borough'] == \"Queen's Park\"]"
   ]
  },
  {
   "cell_type": "code",
   "execution_count": 451,
   "metadata": {},
   "outputs": [
    {
     "data": {
      "text/plain": [
       "(103, 3)"
      ]
     },
     "execution_count": 451,
     "metadata": {},
     "output_type": "execute_result"
    }
   ],
   "source": [
    "tor_boroughs_combined.shape"
   ]
  },
  {
   "cell_type": "markdown",
   "metadata": {},
   "source": [
    "#### Define function to get latitude and longitude from postal code"
   ]
  },
  {
   "cell_type": "code",
   "execution_count": 452,
   "metadata": {},
   "outputs": [],
   "source": [
    "def get_postal_code_lat_lon(postal_code):\n",
    "    # initialize your variable to None\n",
    "    lat_lng_coords = None\n",
    "\n",
    "    # loop until you get the coordinates\n",
    "    while(lat_lng_coords is None):\n",
    "      g = geocoder.google('Toronto, ON {}, Canada'.format(postal_code))\n",
    "      lat_lng_coords = g.latlng\n",
    "    \n",
    "    return lat_lng_coords\n",
    "\n",
    "#     latitude = lat_lng_coords[0]\n",
    "#     longitude = lat_lng_coords[1]"
   ]
  },
  {
   "cell_type": "code",
   "execution_count": 453,
   "metadata": {},
   "outputs": [],
   "source": [
    "## Test function with sample postal code"
   ]
  },
  {
   "cell_type": "code",
   "execution_count": 454,
   "metadata": {},
   "outputs": [],
   "source": [
    "# print('Sample latitude and longitude',get_postal_code_lat_lon('M4B'))"
   ]
  },
  {
   "cell_type": "markdown",
   "metadata": {},
   "source": [
    "#### Use provide geocoded CSV due to issues with geocoder (failed above)"
   ]
  },
  {
   "cell_type": "code",
   "execution_count": 455,
   "metadata": {},
   "outputs": [
    {
     "name": "stdout",
     "output_type": "stream",
     "text": [
      "Shape geocodes (103, 3)\n"
     ]
    },
    {
     "data": {
      "text/html": [
       "<div>\n",
       "<style scoped>\n",
       "    .dataframe tbody tr th:only-of-type {\n",
       "        vertical-align: middle;\n",
       "    }\n",
       "\n",
       "    .dataframe tbody tr th {\n",
       "        vertical-align: top;\n",
       "    }\n",
       "\n",
       "    .dataframe thead th {\n",
       "        text-align: right;\n",
       "    }\n",
       "</style>\n",
       "<table border=\"1\" class=\"dataframe\">\n",
       "  <thead>\n",
       "    <tr style=\"text-align: right;\">\n",
       "      <th></th>\n",
       "      <th>Postal Code</th>\n",
       "      <th>Latitude</th>\n",
       "      <th>Longitude</th>\n",
       "    </tr>\n",
       "  </thead>\n",
       "  <tbody>\n",
       "    <tr>\n",
       "      <td>0</td>\n",
       "      <td>M1B</td>\n",
       "      <td>43.806686</td>\n",
       "      <td>-79.194353</td>\n",
       "    </tr>\n",
       "    <tr>\n",
       "      <td>1</td>\n",
       "      <td>M1C</td>\n",
       "      <td>43.784535</td>\n",
       "      <td>-79.160497</td>\n",
       "    </tr>\n",
       "    <tr>\n",
       "      <td>2</td>\n",
       "      <td>M1E</td>\n",
       "      <td>43.763573</td>\n",
       "      <td>-79.188711</td>\n",
       "    </tr>\n",
       "    <tr>\n",
       "      <td>3</td>\n",
       "      <td>M1G</td>\n",
       "      <td>43.770992</td>\n",
       "      <td>-79.216917</td>\n",
       "    </tr>\n",
       "    <tr>\n",
       "      <td>4</td>\n",
       "      <td>M1H</td>\n",
       "      <td>43.773136</td>\n",
       "      <td>-79.239476</td>\n",
       "    </tr>\n",
       "    <tr>\n",
       "      <td>5</td>\n",
       "      <td>M1J</td>\n",
       "      <td>43.744734</td>\n",
       "      <td>-79.239476</td>\n",
       "    </tr>\n",
       "    <tr>\n",
       "      <td>6</td>\n",
       "      <td>M1K</td>\n",
       "      <td>43.727929</td>\n",
       "      <td>-79.262029</td>\n",
       "    </tr>\n",
       "    <tr>\n",
       "      <td>7</td>\n",
       "      <td>M1L</td>\n",
       "      <td>43.711112</td>\n",
       "      <td>-79.284577</td>\n",
       "    </tr>\n",
       "    <tr>\n",
       "      <td>8</td>\n",
       "      <td>M1M</td>\n",
       "      <td>43.716316</td>\n",
       "      <td>-79.239476</td>\n",
       "    </tr>\n",
       "    <tr>\n",
       "      <td>9</td>\n",
       "      <td>M1N</td>\n",
       "      <td>43.692657</td>\n",
       "      <td>-79.264848</td>\n",
       "    </tr>\n",
       "  </tbody>\n",
       "</table>\n",
       "</div>"
      ],
      "text/plain": [
       "  Postal Code   Latitude  Longitude\n",
       "0         M1B  43.806686 -79.194353\n",
       "1         M1C  43.784535 -79.160497\n",
       "2         M1E  43.763573 -79.188711\n",
       "3         M1G  43.770992 -79.216917\n",
       "4         M1H  43.773136 -79.239476\n",
       "5         M1J  43.744734 -79.239476\n",
       "6         M1K  43.727929 -79.262029\n",
       "7         M1L  43.711112 -79.284577\n",
       "8         M1M  43.716316 -79.239476\n",
       "9         M1N  43.692657 -79.264848"
      ]
     },
     "execution_count": 455,
     "metadata": {},
     "output_type": "execute_result"
    }
   ],
   "source": [
    "tor_boroughs_geocodes = pd.read_csv(r'https://cocl.us/Geospatial_data')\n",
    "print('Shape geocodes', tor_boroughs_geocodes.shape)\n",
    "tor_boroughs_geocodes.head(10)"
   ]
  },
  {
   "cell_type": "markdown",
   "metadata": {},
   "source": [
    "#### Join Geocoded Postal codes with previous dataframe records"
   ]
  },
  {
   "cell_type": "code",
   "execution_count": 456,
   "metadata": {},
   "outputs": [
    {
     "name": "stdout",
     "output_type": "stream",
     "text": [
      "Shape after joining lat lons geocodes (103, 3)\n"
     ]
    },
    {
     "data": {
      "text/html": [
       "<div>\n",
       "<style scoped>\n",
       "    .dataframe tbody tr th:only-of-type {\n",
       "        vertical-align: middle;\n",
       "    }\n",
       "\n",
       "    .dataframe tbody tr th {\n",
       "        vertical-align: top;\n",
       "    }\n",
       "\n",
       "    .dataframe thead th {\n",
       "        text-align: right;\n",
       "    }\n",
       "</style>\n",
       "<table border=\"1\" class=\"dataframe\">\n",
       "  <thead>\n",
       "    <tr style=\"text-align: right;\">\n",
       "      <th></th>\n",
       "      <th>Postcode</th>\n",
       "      <th>Borough</th>\n",
       "      <th>Neighborhood</th>\n",
       "      <th>Latitude</th>\n",
       "      <th>Longitude</th>\n",
       "    </tr>\n",
       "  </thead>\n",
       "  <tbody>\n",
       "    <tr>\n",
       "      <td>0</td>\n",
       "      <td>M3A</td>\n",
       "      <td>North York</td>\n",
       "      <td>Parkwoods</td>\n",
       "      <td>43.753259</td>\n",
       "      <td>-79.329656</td>\n",
       "    </tr>\n",
       "    <tr>\n",
       "      <td>1</td>\n",
       "      <td>M4A</td>\n",
       "      <td>North York</td>\n",
       "      <td>Victoria Village</td>\n",
       "      <td>43.725882</td>\n",
       "      <td>-79.315572</td>\n",
       "    </tr>\n",
       "    <tr>\n",
       "      <td>2</td>\n",
       "      <td>M5A</td>\n",
       "      <td>Downtown Toronto</td>\n",
       "      <td>Harbourfront</td>\n",
       "      <td>43.654260</td>\n",
       "      <td>-79.360636</td>\n",
       "    </tr>\n",
       "    <tr>\n",
       "      <td>3</td>\n",
       "      <td>M6A</td>\n",
       "      <td>North York</td>\n",
       "      <td>Lawrence Heights, Lawrence Manor</td>\n",
       "      <td>43.718518</td>\n",
       "      <td>-79.464763</td>\n",
       "    </tr>\n",
       "    <tr>\n",
       "      <td>4</td>\n",
       "      <td>M7A</td>\n",
       "      <td>Downtown Toronto</td>\n",
       "      <td>Queen's Park</td>\n",
       "      <td>43.662301</td>\n",
       "      <td>-79.389494</td>\n",
       "    </tr>\n",
       "    <tr>\n",
       "      <td>5</td>\n",
       "      <td>M9A</td>\n",
       "      <td>Queen's Park</td>\n",
       "      <td>Queen's Park</td>\n",
       "      <td>43.667856</td>\n",
       "      <td>-79.532242</td>\n",
       "    </tr>\n",
       "    <tr>\n",
       "      <td>6</td>\n",
       "      <td>M1B</td>\n",
       "      <td>Scarborough</td>\n",
       "      <td>Malvern, Rouge</td>\n",
       "      <td>43.806686</td>\n",
       "      <td>-79.194353</td>\n",
       "    </tr>\n",
       "    <tr>\n",
       "      <td>7</td>\n",
       "      <td>M3B</td>\n",
       "      <td>North York</td>\n",
       "      <td>Don Mills North</td>\n",
       "      <td>43.745906</td>\n",
       "      <td>-79.352188</td>\n",
       "    </tr>\n",
       "    <tr>\n",
       "      <td>8</td>\n",
       "      <td>M4B</td>\n",
       "      <td>East York</td>\n",
       "      <td>Parkview Hill, Woodbine Gardens</td>\n",
       "      <td>43.706397</td>\n",
       "      <td>-79.309937</td>\n",
       "    </tr>\n",
       "    <tr>\n",
       "      <td>9</td>\n",
       "      <td>M5B</td>\n",
       "      <td>Downtown Toronto</td>\n",
       "      <td>Garden District, Ryerson</td>\n",
       "      <td>43.657162</td>\n",
       "      <td>-79.378937</td>\n",
       "    </tr>\n",
       "  </tbody>\n",
       "</table>\n",
       "</div>"
      ],
      "text/plain": [
       "  Postcode           Borough                      Neighborhood   Latitude  \\\n",
       "0      M3A        North York                         Parkwoods  43.753259   \n",
       "1      M4A        North York                  Victoria Village  43.725882   \n",
       "2      M5A  Downtown Toronto                      Harbourfront  43.654260   \n",
       "3      M6A        North York  Lawrence Heights, Lawrence Manor  43.718518   \n",
       "4      M7A  Downtown Toronto                      Queen's Park  43.662301   \n",
       "5      M9A      Queen's Park                      Queen's Park  43.667856   \n",
       "6      M1B       Scarborough                    Malvern, Rouge  43.806686   \n",
       "7      M3B        North York                   Don Mills North  43.745906   \n",
       "8      M4B         East York   Parkview Hill, Woodbine Gardens  43.706397   \n",
       "9      M5B  Downtown Toronto          Garden District, Ryerson  43.657162   \n",
       "\n",
       "   Longitude  \n",
       "0 -79.329656  \n",
       "1 -79.315572  \n",
       "2 -79.360636  \n",
       "3 -79.464763  \n",
       "4 -79.389494  \n",
       "5 -79.532242  \n",
       "6 -79.194353  \n",
       "7 -79.352188  \n",
       "8 -79.309937  \n",
       "9 -79.378937  "
      ]
     },
     "execution_count": 456,
     "metadata": {},
     "output_type": "execute_result"
    }
   ],
   "source": [
    "tor_boroughs_geocoded =  tor_boroughs_combined.merge(tor_boroughs_geocodes, how='left', left_on='Postcode', right_on='Postal Code')\n",
    "tor_boroughs_geocoded.drop('Postal Code',axis=1,inplace=True)\n",
    "print('Shape after joining lat lons geocodes', tor_boroughs_geocodes.shape)\n",
    "tor_boroughs_geocoded.head(10)"
   ]
  },
  {
   "cell_type": "markdown",
   "metadata": {},
   "source": [
    "## 2. Explore & Visualize Neighborhoods in Toronto"
   ]
  },
  {
   "cell_type": "markdown",
   "metadata": {},
   "source": [
    "### Visualize Toronto Neighborhoods on a map"
   ]
  },
  {
   "cell_type": "code",
   "execution_count": 457,
   "metadata": {},
   "outputs": [
    {
     "name": "stdout",
     "output_type": "stream",
     "text": [
      "Your credentails:\n",
      "CLIENT_ID: VYRGXLH1CYLIRXGALW2GVEE1FTWG4EVTJ2LXJCFA0130WEDS\n",
      "CLIENT_SECRET:HFYLKPQORHLRKKJ5HSARPFLZAJNC2CMCKOFDQHKPGMEB2RJY\n"
     ]
    }
   ],
   "source": [
    "CLIENT_ID = 'VYRGXLH1CYLIRXGALW2GVEE1FTWG4EVTJ2LXJCFA0130WEDS' # your Foursquare ID\n",
    "CLIENT_SECRET = 'HFYLKPQORHLRKKJ5HSARPFLZAJNC2CMCKOFDQHKPGMEB2RJY' # your Foursquare Secret\n",
    "VERSION = '20180605' # Foursquare API version\n",
    "\n",
    "print('Your credentails:')\n",
    "print('CLIENT_ID: ' + CLIENT_ID)\n",
    "print('CLIENT_SECRET:' + CLIENT_SECRET)"
   ]
  },
  {
   "cell_type": "markdown",
   "metadata": {},
   "source": [
    "#### Get map center"
   ]
  },
  {
   "cell_type": "code",
   "execution_count": 458,
   "metadata": {},
   "outputs": [
    {
     "name": "stdout",
     "output_type": "stream",
     "text": [
      "The geograpical coordinate of Toronto are 43.653963, -79.387207.\n"
     ]
    }
   ],
   "source": [
    "address = 'Toronto, Ontario, Canada'\n",
    "geolocator = Nominatim(user_agent=\"tor_explorer\")\n",
    "location = geolocator.geocode(address)\n",
    "latitude = location.latitude\n",
    "longitude = location.longitude\n",
    "print('The geograpical coordinate of Toronto are {}, {}.'.format(latitude, longitude))"
   ]
  },
  {
   "cell_type": "markdown",
   "metadata": {},
   "source": [
    "#### Map boroughs with name Toronto"
   ]
  },
  {
   "cell_type": "code",
   "execution_count": 459,
   "metadata": {},
   "outputs": [
    {
     "data": {
      "text/html": [
       "<div style=\"width:100%;\"><div style=\"position:relative;width:100%;height:0;padding-bottom:60%;\"><iframe src=\"data:text/html;charset=utf-8;base64,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\" style=\"position:absolute;width:100%;height:100%;left:0;top:0;border:none !important;\" allowfullscreen webkitallowfullscreen mozallowfullscreen></iframe></div></div>"
      ],
      "text/plain": [
       "<folium.folium.Map at 0x1a2b3b2390>"
      ]
     },
     "execution_count": 459,
     "metadata": {},
     "output_type": "execute_result"
    }
   ],
   "source": [
    "# create map of Manhattan using latitude and longitude values\n",
    "map_toronto = folium.Map(location=[latitude, longitude], zoom_start=11)\n",
    "\n",
    "# get a subset of boroughs just the ones with Toronto in the name\n",
    "tor_boroughs = tor_boroughs_geocoded[tor_boroughs_geocoded['Borough'].str.contains('Toronto')]\n",
    "\n",
    "# add markers to map\n",
    "for lat, lng, label in zip(tor_boroughs['Latitude'], tor_boroughs['Longitude'], tor_boroughs['Neighborhood']):\n",
    "    label = folium.Popup(label, parse_html=True)\n",
    "    folium.CircleMarker(\n",
    "        [lat, lng],\n",
    "        radius=5,\n",
    "        popup=label,\n",
    "        color='blue',\n",
    "        fill=True,\n",
    "        fill_color='#3186cc',\n",
    "        fill_opacity=0.7,\n",
    "        parse_html=False).add_to(map_toronto)  \n",
    "    \n",
    "map_toronto\n"
   ]
  },
  {
   "cell_type": "markdown",
   "metadata": {},
   "source": [
    "### Explore venues Neighborhoods in Toronto"
   ]
  },
  {
   "cell_type": "markdown",
   "metadata": {},
   "source": [
    "#### Define a function to get the first top 100 venues that are in a given postcode within a radius of 500 meters."
   ]
  },
  {
   "cell_type": "code",
   "execution_count": 460,
   "metadata": {},
   "outputs": [],
   "source": [
    "def getNearbyVenues(names, latitudes, longitudes, radius=500):\n",
    "    \n",
    "    venues_list=[]\n",
    "    for name, lat, lng in zip(names, latitudes, longitudes):\n",
    "        print(name)\n",
    "            \n",
    "        # create the API request URL\n",
    "        url = 'https://api.foursquare.com/v2/venues/explore?&client_id={}&client_secret={}&v={}&ll={},{}&radius={}&limit={}'.format(\n",
    "            CLIENT_ID, \n",
    "            CLIENT_SECRET, \n",
    "            VERSION, \n",
    "            lat, \n",
    "            lng, \n",
    "            radius, \n",
    "            LIMIT)\n",
    "            \n",
    "        # make the GET request\n",
    "        results = requests.get(url).json()[\"response\"]['groups'][0]['items']\n",
    "        \n",
    "        # return only relevant information for each nearby venue\n",
    "        venues_list.append([(\n",
    "            name, \n",
    "            lat, \n",
    "            lng, \n",
    "            v['venue']['name'], \n",
    "            v['venue']['location']['lat'], \n",
    "            v['venue']['location']['lng'],  \n",
    "            v['venue']['categories'][0]['name']) for v in results])\n",
    "\n",
    "    nearby_venues = pd.DataFrame([item for venue_list in venues_list for item in venue_list])\n",
    "    nearby_venues.columns = ['Neighborhood', \n",
    "                  'Neighborhood Latitude', \n",
    "                  'Neighborhood Longitude', \n",
    "                  'Venue', \n",
    "                  'Venue Latitude', \n",
    "                  'Venue Longitude', \n",
    "                  'Venue Category']\n",
    "    \n",
    "    return(nearby_venues)"
   ]
  },
  {
   "cell_type": "markdown",
   "metadata": {},
   "source": [
    "#### Get venues for select toronto postcodes"
   ]
  },
  {
   "cell_type": "code",
   "execution_count": null,
   "metadata": {
    "scrolled": true
   },
   "outputs": [
    {
     "name": "stdout",
     "output_type": "stream",
     "text": [
      "Harbourfront\n",
      "Queen's Park\n",
      "Garden District, Ryerson\n",
      "St. James Town\n",
      "The Beaches\n",
      "Berczy Park\n",
      "Central Bay Street\n",
      "Christie\n",
      "Adelaide, King, Richmond\n",
      "Dovercourt Village, Dufferin\n",
      "Harbourfront East, Toronto Islands, Union Station\n",
      "Little Portugal, Trinity\n",
      "Riverdale, The Danforth West\n",
      "Design Exchange, Toronto Dominion Centre\n"
     ]
    }
   ],
   "source": [
    "tor_venues = getNearbyVenues(names=tor_boroughs['Neighborhood'],\n",
    "                                   latitudes=tor_boroughs['Latitude'],\n",
    "                                   longitudes=tor_boroughs['Longitude']\n",
    "                                  )"
   ]
  },
  {
   "cell_type": "markdown",
   "metadata": {},
   "source": [
    "#### Check the size of the resulting dataframe"
   ]
  },
  {
   "cell_type": "code",
   "execution_count": null,
   "metadata": {},
   "outputs": [],
   "source": [
    "print(tor_venues.shape)\n",
    "tor_venues.head()"
   ]
  },
  {
   "cell_type": "markdown",
   "metadata": {},
   "source": [
    "#### How many venues were returned for each postcode"
   ]
  },
  {
   "cell_type": "code",
   "execution_count": null,
   "metadata": {},
   "outputs": [],
   "source": [
    "tor_venues.groupby('Neighborhood').count()"
   ]
  },
  {
   "cell_type": "markdown",
   "metadata": {},
   "source": [
    "#### Find out how many unique categories can be curated from all the returned venues"
   ]
  },
  {
   "cell_type": "code",
   "execution_count": null,
   "metadata": {},
   "outputs": [],
   "source": [
    "print('There are {} uniques categories.'.format(len(tor_venues['Venue Category'].unique())))"
   ]
  },
  {
   "cell_type": "markdown",
   "metadata": {},
   "source": [
    "## 3. Analyze each Neighborhood"
   ]
  },
  {
   "cell_type": "code",
   "execution_count": null,
   "metadata": {},
   "outputs": [],
   "source": [
    "# one hot encoding\n",
    "tor_onehot = pd.get_dummies(tor_venues[['Venue Category']], prefix=\"\", prefix_sep=\"\")\n",
    "\n",
    "# add neighborhood column back to dataframe\n",
    "tor_onehot['Neighborhood'] = tor_venues['Neighborhood'] \n",
    "\n",
    "# # move neighborhood column to the first column\n",
    "tor_cols = tor_onehot.columns.values\n",
    "neigh_col = np.where(tor_cols == 'Neighborhood')[0][0]\n",
    "fixed_columns = (\n",
    "    [tor_onehot.columns[neigh_col]] + \n",
    "    list(tor_onehot.columns[:neigh_col]) + \n",
    "    list(tor_onehot.columns[(neigh_col +1):])\n",
    ")\n",
    "tor_onehot = tor_onehot[fixed_columns]\n",
    "\n",
    "tor_onehot.head()"
   ]
  },
  {
   "cell_type": "markdown",
   "metadata": {},
   "source": [
    "Examine the size of the dataframe"
   ]
  },
  {
   "cell_type": "code",
   "execution_count": null,
   "metadata": {},
   "outputs": [],
   "source": [
    "tor_onehot.shape"
   ]
  },
  {
   "cell_type": "markdown",
   "metadata": {},
   "source": [
    "#### Group rows by neighborhood  by taking the mean of the frequency of occurrence of each category"
   ]
  },
  {
   "cell_type": "code",
   "execution_count": null,
   "metadata": {},
   "outputs": [],
   "source": [
    "tor_grouped = tor_onehot.groupby('Neighborhood').mean().reset_index()\n",
    "tor_grouped"
   ]
  },
  {
   "cell_type": "markdown",
   "metadata": {},
   "source": [
    "#### Check the size of the new dataframe"
   ]
  },
  {
   "cell_type": "code",
   "execution_count": null,
   "metadata": {},
   "outputs": [],
   "source": [
    "tor_grouped.shape"
   ]
  },
  {
   "cell_type": "markdown",
   "metadata": {},
   "source": [
    "#### Print each neighborhood along with the top 5 most common venues"
   ]
  },
  {
   "cell_type": "code",
   "execution_count": null,
   "metadata": {},
   "outputs": [],
   "source": [
    "num_top_venues = 5\n",
    "\n",
    "for hood in tor_grouped['Neighborhood']:\n",
    "    print(\"----\"+hood+\"----\")\n",
    "    temp = tor_grouped[tor_grouped['Neighborhood'] == hood].T.reset_index()\n",
    "    temp.columns = ['venue','freq']\n",
    "    temp = temp.iloc[1:]\n",
    "    temp['freq'] = temp['freq'].astype(float)\n",
    "    temp = temp.round({'freq': 2})\n",
    "    print(temp.sort_values('freq', ascending=False).reset_index(drop=True).head(num_top_venues))\n",
    "    print('\\n')"
   ]
  },
  {
   "cell_type": "markdown",
   "metadata": {},
   "source": [
    "#### Define a function to put the top n most common venues into a dataframe"
   ]
  },
  {
   "cell_type": "code",
   "execution_count": null,
   "metadata": {},
   "outputs": [],
   "source": [
    "def return_most_common_venues(row, num_top_venues):\n",
    "    row_categories = row.iloc[1:]\n",
    "    row_categories_sorted = row_categories.sort_values(ascending=False)\n",
    "    \n",
    "    return row_categories_sorted.index.values[0:num_top_venues]"
   ]
  },
  {
   "cell_type": "markdown",
   "metadata": {},
   "source": [
    "#### Display the top 10 most common venues for each neighborhood in a datafarame"
   ]
  },
  {
   "cell_type": "code",
   "execution_count": null,
   "metadata": {},
   "outputs": [],
   "source": [
    "num_top_venues = 10\n",
    "\n",
    "indicators = ['st', 'nd', 'rd']\n",
    "\n",
    "# create columns according to number of top venues\n",
    "columns = ['Neighborhood']\n",
    "for ind in np.arange(num_top_venues):\n",
    "    try:\n",
    "        columns.append('{}{} Most Common Venue'.format(ind+1, indicators[ind]))\n",
    "    except:\n",
    "        columns.append('{}th Most Common Venue'.format(ind+1))\n",
    "\n",
    "# create a new dataframe\n",
    "neighborhoods_venues_sorted = pd.DataFrame(columns=columns)\n",
    "neighborhoods_venues_sorted['Neighborhood'] = tor_grouped['Neighborhood']\n",
    "\n",
    "for ind in np.arange(tor_grouped.shape[0]):\n",
    "    neighborhoods_venues_sorted.iloc[ind, 1:] = return_most_common_venues(tor_grouped.iloc[ind, :], num_top_venues)\n",
    "\n",
    "neighborhoods_venues_sorted.head()"
   ]
  },
  {
   "cell_type": "markdown",
   "metadata": {},
   "source": [
    "## 4. Cluster Neighborhoods"
   ]
  },
  {
   "cell_type": "markdown",
   "metadata": {},
   "source": [
    "#### Run k-means to cluster neighborhoods into 5 clusters"
   ]
  },
  {
   "cell_type": "code",
   "execution_count": null,
   "metadata": {},
   "outputs": [],
   "source": [
    "# set number of clusters\n",
    "kclusters = 5\n",
    "\n",
    "tor_grouped_clustering = tor_grouped.drop('Neighborhood', 1)\n",
    "\n",
    "# run k-means clustering\n",
    "kmeans = KMeans(n_clusters=kclusters, random_state=0).fit(tor_grouped_clustering)\n",
    "\n",
    "# check cluster labels generated for each row in the dataframe\n",
    "kmeans.labels_[0:100] "
   ]
  },
  {
   "cell_type": "code",
   "execution_count": null,
   "metadata": {},
   "outputs": [],
   "source": [
    "tor_grouped_clustering.head()"
   ]
  },
  {
   "cell_type": "markdown",
   "metadata": {},
   "source": [
    "#### Create a new dataframe that includes the cluster as well as the top 10 venues for each neighborhood."
   ]
  },
  {
   "cell_type": "code",
   "execution_count": null,
   "metadata": {},
   "outputs": [],
   "source": [
    "# add clustering labels\n",
    "neighborhoods_venues_sorted.insert(0, 'Cluster Labels', kmeans.labels_)\n",
    "\n",
    "tor_merged = tor_boroughs\n",
    "\n",
    "# merge toronto_grouped with toronto_data to add latitude/longitude for each neighborhood\n",
    "tor_merged = tor_merged.join(neighborhoods_venues_sorted.set_index('Neighborhood'), on='Neighborhood')\n",
    "\n",
    "tor_merged.head() # check the last columns!"
   ]
  },
  {
   "cell_type": "markdown",
   "metadata": {},
   "source": [
    "#### Map the resulting cluster"
   ]
  },
  {
   "cell_type": "code",
   "execution_count": null,
   "metadata": {},
   "outputs": [],
   "source": [
    "# create map\n",
    "map_clusters = folium.Map(location=[latitude, longitude], zoom_start=11)\n",
    "\n",
    "# set color scheme for the clusters\n",
    "x = np.arange(kclusters)\n",
    "ys = [i + x + (i*x)**2 for i in range(kclusters)]\n",
    "colors_array = cm.rainbow(np.linspace(0, 1, len(ys)))\n",
    "rainbow = [colors.rgb2hex(i) for i in colors_array]\n",
    "\n",
    "# add markers to the map\n",
    "markers_colors = []\n",
    "for lat, lon, poi, cluster in zip(tor_merged['Latitude'], tor_merged['Longitude'], tor_merged['Neighborhood'], tor_merged['Cluster Labels']):\n",
    "    label = folium.Popup(str(poi) + ' Cluster ' + str(cluster), parse_html=True)\n",
    "    folium.CircleMarker(\n",
    "        [lat, lon],\n",
    "        radius=5,\n",
    "        popup=label,\n",
    "        color=rainbow[cluster-1],\n",
    "        fill=True,\n",
    "        fill_color=rainbow[cluster-1],\n",
    "        fill_opacity=0.7).add_to(map_clusters)\n",
    "       \n",
    "map_clusters"
   ]
  },
  {
   "cell_type": "markdown",
   "metadata": {},
   "source": [
    "## 5. Examine Clusters"
   ]
  },
  {
   "cell_type": "markdown",
   "metadata": {},
   "source": [
    "#### Cluster 1"
   ]
  },
  {
   "cell_type": "code",
   "execution_count": null,
   "metadata": {},
   "outputs": [],
   "source": [
    "tor_merged.loc[tor_merged['Cluster Labels'] == 0, tor_merged.columns[[1] + list(range(5, tor_merged.shape[1]))]]"
   ]
  },
  {
   "cell_type": "markdown",
   "metadata": {},
   "source": [
    "#### Cluster 2"
   ]
  },
  {
   "cell_type": "code",
   "execution_count": null,
   "metadata": {},
   "outputs": [],
   "source": [
    "tor_merged.loc[tor_merged['Cluster Labels'] == 1, tor_merged.columns[[1] + list(range(5, tor_merged.shape[1]))]]"
   ]
  },
  {
   "cell_type": "markdown",
   "metadata": {},
   "source": [
    "#### Cluster 3"
   ]
  },
  {
   "cell_type": "code",
   "execution_count": null,
   "metadata": {},
   "outputs": [],
   "source": [
    "tor_merged.loc[tor_merged['Cluster Labels'] == 2, tor_merged.columns[[1] + list(range(5, tor_merged.shape[1]))]]"
   ]
  },
  {
   "cell_type": "markdown",
   "metadata": {},
   "source": [
    "#### Cluster 4"
   ]
  },
  {
   "cell_type": "code",
   "execution_count": null,
   "metadata": {},
   "outputs": [],
   "source": [
    "tor_merged.loc[tor_merged['Cluster Labels'] == 3, tor_merged.columns[[1] + list(range(5, tor_merged.shape[1]))]]"
   ]
  },
  {
   "cell_type": "markdown",
   "metadata": {},
   "source": [
    "#### Cluster 5"
   ]
  },
  {
   "cell_type": "code",
   "execution_count": null,
   "metadata": {},
   "outputs": [],
   "source": [
    "tor_merged.loc[tor_merged['Cluster Labels'] == 4, tor_merged.columns[[1] + list(range(5, tor_merged.shape[1]))]]"
   ]
  },
  {
   "cell_type": "code",
   "execution_count": null,
   "metadata": {},
   "outputs": [],
   "source": []
  }
 ],
 "metadata": {
  "kernelspec": {
   "display_name": "Python 3",
   "language": "python",
   "name": "python3"
  },
  "language_info": {
   "codemirror_mode": {
    "name": "ipython",
    "version": 3
   },
   "file_extension": ".py",
   "mimetype": "text/x-python",
   "name": "python",
   "nbconvert_exporter": "python",
   "pygments_lexer": "ipython3",
   "version": "3.7.4"
  }
 },
 "nbformat": 4,
 "nbformat_minor": 2
}
